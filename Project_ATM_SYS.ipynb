{
  "nbformat": 4,
  "nbformat_minor": 0,
  "metadata": {
    "colab": {
      "name": "Project_ATM_SYS.ipynb",
      "provenance": [],
      "collapsed_sections": [],
      "authorship_tag": "ABX9TyNSLKXSDeRSMfLl9Po+gkj0",
      "include_colab_link": true
    },
    "kernelspec": {
      "name": "python3",
      "display_name": "Python 3"
    },
    "language_info": {
      "name": "python"
    }
  },
  "cells": [
    {
      "cell_type": "markdown",
      "metadata": {
        "id": "view-in-github",
        "colab_type": "text"
      },
      "source": [
        "<a href=\"https://colab.research.google.com/github/V-Nayak/Projects/blob/main/Project_ATM_SYS.ipynb\" target=\"_parent\"><img src=\"https://colab.research.google.com/assets/colab-badge.svg\" alt=\"Open In Colab\"/></a>"
      ]
    },
    {
      "cell_type": "code",
      "execution_count": null,
      "metadata": {
        "id": "WqtdFXqsiFEN"
      },
      "outputs": [],
      "source": [
        "ATM System (Command line)\n",
        "\n",
        "Enter your card valid card check all are numbers? ---> (Take inputs)\n",
        "1. Display menu(Withdrawal, saving, current, other)\n",
        "\n",
        "2. Other\n",
        "\n",
        "a. PIN change, Block card\n",
        "\n",
        "\n",
        "3. Withdrawal\n",
        "a. Enter the amount to withdrawal in terms of 200 RS\n",
        "b. Check balance info\n",
        "c. If balance low then display Error message (Low balance)\n",
        "d. exit()\n",
        "e. Thank you\n",
        "Else:\n",
        "Update the remaining balance\n",
        "Write the balance in file.csv (name, account number, balance account type)\n",
        "Display message of successful transaction\n",
        "exit()\n",
        "\n",
        "\n",
        "4. PIN Exchange\n",
        "a. Enter card number\n",
        "b. Enter the OTP\n",
        "c. Validate the OTP and mobile number\n",
        "d. Update the pin (as of now write it in csv file)file.csv (name, account number,\n",
        "balance account type, PIN)\n",
        "e. Display message of successful pin change\n",
        "f. Exit()\n",
        "\n",
        "5. Block Card\n",
        "a. Enter card number\n",
        "b. Enter the OTP\n",
        "c. Validate the OTP and mobile number\n",
        "d. Update the access field in csv to BLOCK ile.csv (name, account number, balance\n",
        "account type, PIN, access)\n",
        "e. Display successful message\n",
        "f. exit"
      ]
    }
  ]
}