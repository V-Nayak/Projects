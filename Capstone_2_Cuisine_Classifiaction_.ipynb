{
  "nbformat": 4,
  "nbformat_minor": 0,
  "metadata": {
    "colab": {
      "provenance": [],
      "collapsed_sections": [],
      "mount_file_id": "10SAkwAlAq6GcuFB-yrwNa6gCZFHHQ8_0",
      "authorship_tag": "ABX9TyPXpBQ84cytwJxMRcgo/eKU",
      "include_colab_link": true
    },
    "kernelspec": {
      "name": "python3",
      "display_name": "Python 3"
    },
    "language_info": {
      "name": "python"
    }
  },
  "cells": [
    {
      "cell_type": "markdown",
      "metadata": {
        "id": "view-in-github",
        "colab_type": "text"
      },
      "source": [
        "<a href=\"https://colab.research.google.com/github/V-Nayak/Projects/blob/main/Capstone_2_Cuisine_Classifiaction_.ipynb\" target=\"_parent\"><img src=\"https://colab.research.google.com/assets/colab-badge.svg\" alt=\"Open In Colab\"/></a>"
      ]
    },
    {
      "cell_type": "markdown",
      "source": [
        "## **Importing Libraries**"
      ],
      "metadata": {
        "id": "4wWZ1YlgN9ep"
      }
    },
    {
      "cell_type": "code",
      "source": [
        "import pandas as pd\n",
        "import numpy as np"
      ],
      "metadata": {
        "id": "caRLl1a8N4GT"
      },
      "execution_count": 2,
      "outputs": []
    },
    {
      "cell_type": "code",
      "execution_count": 3,
      "metadata": {
        "id": "PUuKNAnsM2lv"
      },
      "outputs": [],
      "source": [
        "FFR=pd.read_csv(\"/content/drive/MyDrive/ML Projects/FFR.csv\")"
      ]
    },
    {
      "cell_type": "code",
      "source": [
        "FFR.describe"
      ],
      "metadata": {
        "colab": {
          "base_uri": "https://localhost:8080/"
        },
        "id": "TJqpsVybOEFz",
        "outputId": "489dcb00-2241-4bcd-f1d9-64cad2a45c54"
      },
      "execution_count": 4,
      "outputs": [
        {
          "output_type": "execute_result",
          "data": {
            "text/plain": [
              "<bound method NDFrame.describe of                         id             dateAdded           dateUpdated  \\\n",
              "0     AWrSh_KgsVYjT2BJAzaH  2019-05-19T23:58:05Z  2019-05-19T23:58:05Z   \n",
              "1     AWEKlA-LIxWefVJwxG9B  2018-01-18T18:30:23Z  2019-05-19T23:45:05Z   \n",
              "2     AWrSfAcYsVYjT2BJAzPt  2019-05-19T23:45:04Z  2019-05-19T23:45:04Z   \n",
              "3     AWrSa3NAQTFama1Xpkbz  2019-05-19T23:26:58Z  2019-05-19T23:26:58Z   \n",
              "4     AWrSaVGzZ4Yw-wtdgcaB  2019-05-19T23:24:38Z  2019-05-19T23:24:38Z   \n",
              "...                    ...                   ...                   ...   \n",
              "9995  AVwd7U0T_7pvs4fz-fS_  2016-05-31T13:33:45Z  2018-12-03T09:04:19Z   \n",
              "9996  AV1XW1fF3D1zeR_xFKHL  2017-07-18T20:19:50Z  2018-12-02T00:08:36Z   \n",
              "9997  AV5UVbkiRxPSIh2RiQxV  2017-09-05T23:05:50Z  2018-12-01T07:38:03Z   \n",
              "9998  AVwc9BxYByjofQCxj_GW  2016-03-31T02:43:12Z  2018-12-01T07:35:22Z   \n",
              "9999  AVzA_GF53D1zeR_xBDVW  2017-06-19T15:33:04Z  2018-12-01T00:03:40Z   \n",
              "\n",
              "                          address  \\\n",
              "0                2555 11th Avenue   \n",
              "1           2513 Highway 6 And 50   \n",
              "2             1125 Patterson Road   \n",
              "3             3455 N Salida Court   \n",
              "4            5225 E Colfax Avenue   \n",
              "...                           ...   \n",
              "9995            1803 Carolina Ave   \n",
              "9996  8511 Cantilever Way Ste 105   \n",
              "9997               2601 Plover Rd   \n",
              "9998                170 E Main St   \n",
              "9999          3400 Westgate Drive   \n",
              "\n",
              "                                             categories  \\\n",
              "0     Fast Food Restaurants,Hamburgers and Hot Dogs,...   \n",
              "1     Restaurant,Mexican Restaurants,Fast Food Resta...   \n",
              "2     Sandwich Shops,Fast Food Restaurants,Restauran...   \n",
              "3     Fast Food Restaurants,Mexican Restaurants,Rest...   \n",
              "4     Fast Food Restaurants,Mexican Restaurants,Rest...   \n",
              "...                                                 ...   \n",
              "9995  American Restaurants,Caterers,Soul Food Restau...   \n",
              "9996  Mexican Restaurants,Caterers,Delicatessens,Iri...   \n",
              "9997  Carry-out food,Hot dog restaurants,Fast Food R...   \n",
              "9998  Carry-out food,Caterers,Restaurant delivery se...   \n",
              "9999                   Fast Food Restaurant,Restaurants   \n",
              "\n",
              "                  primaryCategories            city country  \\\n",
              "0     Accommodation & Food Services         Greeley      US   \n",
              "1     Accommodation & Food Services  Grand Junction      US   \n",
              "2     Accommodation & Food Services  Grand Junction      US   \n",
              "3     Accommodation & Food Services          Aurora      US   \n",
              "4     Accommodation & Food Services          Denver      US   \n",
              "...                             ...             ...     ...   \n",
              "9995  Accommodation & Food Services        Bessemer      US   \n",
              "9996  Accommodation & Food Services         Raleigh      US   \n",
              "9997  Accommodation & Food Services          Plover      US   \n",
              "9998  Accommodation & Food Services  Hendersonville      US   \n",
              "9999  Accommodation & Food Services          Durham      US   \n",
              "\n",
              "                                                   keys   latitude  \\\n",
              "0                us/co/greeley/255511thavenue/554191587  40.396290   \n",
              "1      us/co/grandjunction/2513highway6and50/1550891556  39.081350   \n",
              "2     us/co/grandjunction/1125pattersonroad/-2137447852  39.091480   \n",
              "3              us/co/aurora/3455nsalidacourt/1143321601  39.763690   \n",
              "4             us/co/denver/5225ecolfaxavenue/-864103396  39.740440   \n",
              "...                                                 ...        ...   \n",
              "9995           us/al/bessemer/1803carolinaave/785498836  33.399574   \n",
              "9996  us/nc/raleigh/8511cantileverwayste105/-1596320866  35.884500   \n",
              "9997              us/wi/plover/2601ploverrd/-1161002137  44.453180   \n",
              "9998          us/tn/hendersonville/170emainst/-66712705  36.308262   \n",
              "9999         us/nc/durham/3400westgatedrive/-2061630068  35.965869   \n",
              "\n",
              "       longitude                            name  postalCode province  \\\n",
              "0    -104.696990                      Carl's Jr.       80631       CO   \n",
              "1    -108.586890                        Del Taco       81505       CO   \n",
              "2    -108.554110                      Which Wich       81506       CO   \n",
              "3    -104.776710          Chipotle Mexican Grill       80011       CO   \n",
              "4    -104.926360                       Taco Bell       80220       CO   \n",
              "...          ...                             ...         ...      ...   \n",
              "9995  -86.951050  Church's Chicken Of Birmingham       35020       AL   \n",
              "9996  -78.737541                      Luxury Box  27613-6996       NC   \n",
              "9997  -89.543170                      McDonald's       54467       WI   \n",
              "9998  -86.607339                       Pizza Hut       37075       TN   \n",
              "9999  -78.963366                     Burger King  27707-2696       NC   \n",
              "\n",
              "                                             sourceURLs  \\\n",
              "0     https://www.yellowpages.com/greeley-co/mip/car...   \n",
              "1     http://www.citysearch.com/profile/772076870/gr...   \n",
              "2     https://www.yellowpages.com/grand-junction-co/...   \n",
              "3     https://www.yellowpages.com/aurora-co/mip/chip...   \n",
              "4     https://www.yellowpages.com/denver-co/mip/taco...   \n",
              "...                                                 ...   \n",
              "9995  http://www.yellowpages.com/bessemer-al/mip/chu...   \n",
              "9996  https://www.bbb.org/us/nc/raleigh/profile/spor...   \n",
              "9997  https://www.yellowpages.com/plover-wi/mip/mcdo...   \n",
              "9998  https://foursquare.com/v/pizza-hut/4c5fffd43a3...   \n",
              "9999  https://foursquare.com/v/burger-king/4c4b28765...   \n",
              "\n",
              "                                               websites  \n",
              "0     https://www.carlsjr.com/?utm_source=Yextandutm...  \n",
              "1                                http://www.deltaco.com  \n",
              "2                              http://www.whichwich.com  \n",
              "3                               http://www.chipotle.com  \n",
              "4     https://locations.tacobell.com/co/denver/5225-...  \n",
              "...                                                 ...  \n",
              "9995                             http://www.churchs.com  \n",
              "9996  http://www.theluxuryboxofraleigh.com,http://th...  \n",
              "9997  http://mcdonalds.com,http://www.mcdonalds.com/...  \n",
              "9998                            http://www.pizzahut.com  \n",
              "9999                                  http://www.bk.com  \n",
              "\n",
              "[10000 rows x 16 columns]>"
            ]
          },
          "metadata": {},
          "execution_count": 4
        }
      ]
    },
    {
      "cell_type": "code",
      "source": [
        "FFR.info()"
      ],
      "metadata": {
        "colab": {
          "base_uri": "https://localhost:8080/"
        },
        "id": "S0O-NnnmOGA4",
        "outputId": "ecf59d59-109f-48c6-b425-da7e8d466436"
      },
      "execution_count": 5,
      "outputs": [
        {
          "output_type": "stream",
          "name": "stdout",
          "text": [
            "<class 'pandas.core.frame.DataFrame'>\n",
            "RangeIndex: 10000 entries, 0 to 9999\n",
            "Data columns (total 16 columns):\n",
            " #   Column             Non-Null Count  Dtype  \n",
            "---  ------             --------------  -----  \n",
            " 0   id                 10000 non-null  object \n",
            " 1   dateAdded          10000 non-null  object \n",
            " 2   dateUpdated        10000 non-null  object \n",
            " 3   address            10000 non-null  object \n",
            " 4   categories         10000 non-null  object \n",
            " 5   primaryCategories  10000 non-null  object \n",
            " 6   city               10000 non-null  object \n",
            " 7   country            10000 non-null  object \n",
            " 8   keys               10000 non-null  object \n",
            " 9   latitude           10000 non-null  float64\n",
            " 10  longitude          10000 non-null  float64\n",
            " 11  name               10000 non-null  object \n",
            " 12  postalCode         10000 non-null  object \n",
            " 13  province           10000 non-null  object \n",
            " 14  sourceURLs         10000 non-null  object \n",
            " 15  websites           9918 non-null   object \n",
            "dtypes: float64(2), object(14)\n",
            "memory usage: 1.2+ MB\n"
          ]
        }
      ]
    },
    {
      "cell_type": "code",
      "source": [],
      "metadata": {
        "id": "ds95NiIFOIdJ"
      },
      "execution_count": null,
      "outputs": []
    }
  ]
}