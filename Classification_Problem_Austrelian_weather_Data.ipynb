{
  "nbformat": 4,
  "nbformat_minor": 0,
  "metadata": {
    "colab": {
      "name": "Classification Problem: Austrelian weather Data.ipynb",
      "provenance": [],
      "collapsed_sections": [],
      "mount_file_id": "1qvpE7gwPY0yf6vzTTH0H4uHjy90pJ1xm",
      "authorship_tag": "ABX9TyMl6gnn5pEBzyGW8j9DECbD",
      "include_colab_link": true
    },
    "kernelspec": {
      "name": "python3",
      "display_name": "Python 3"
    },
    "language_info": {
      "name": "python"
    }
  },
  "cells": [
    {
      "cell_type": "markdown",
      "metadata": {
        "id": "view-in-github",
        "colab_type": "text"
      },
      "source": [
        "<a href=\"https://colab.research.google.com/github/V-Nayak/Projects/blob/main/Classification_Problem_Austrelian_weather_Data.ipynb\" target=\"_parent\"><img src=\"https://colab.research.google.com/assets/colab-badge.svg\" alt=\"Open In Colab\"/></a>"
      ]
    },
    {
      "cell_type": "code",
      "source": [
        "import numpy as np # linear algebra\n",
        "import pandas as pd # data processing, CSV file I/O (e.g. pd.read_csv)\n",
        "import matplotlib.pyplot as plt # data visualization\n",
        "import seaborn as sns # statistical data visualization\n",
        "%matplotlib inline\n",
        "\n",
        "import warnings\n",
        "\n",
        "warnings.filterwarnings('ignore')"
      ],
      "metadata": {
        "id": "wG1U-0mkBdUf"
      },
      "execution_count": null,
      "outputs": []
    },
    {
      "cell_type": "code",
      "source": [
        "# Reading the file\n",
        "AUS_WD = pd.read_csv(\"/content/drive/MyDrive/ML Projects/weatherAUS.csv\")"
      ],
      "metadata": {
        "id": "mg8Sw68dGFHk"
      },
      "execution_count": 3,
      "outputs": []
    },
    {
      "cell_type": "markdown",
      "source": [
        "## **EDA**"
      ],
      "metadata": {
        "id": "XN4JOrMmKMb8"
      }
    },
    {
      "cell_type": "code",
      "source": [
        "# Getting the rows and columns\n",
        "AUS_WD.shape\n"
      ],
      "metadata": {
        "colab": {
          "base_uri": "https://localhost:8080/"
        },
        "id": "WN76f_sbKPh2",
        "outputId": "39d95b9f-c109-4a8c-c717-00095baaf0c3"
      },
      "execution_count": 5,
      "outputs": [
        {
          "output_type": "execute_result",
          "data": {
            "text/plain": [
              "(145460, 23)"
            ]
          },
          "metadata": {},
          "execution_count": 5
        }
      ]
    }
  ]
}